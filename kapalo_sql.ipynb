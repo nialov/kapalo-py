{
 "cells": [
  {
   "cell_type": "code",
   "execution_count": 1,
   "id": "1403d5c9-0607-4a21-a340-b5286a097fa5",
   "metadata": {},
   "outputs": [],
   "source": [
    "import pandas as pd\n",
    "import geopandas as gpd\n",
    "import sqlite3\n",
    "from shapely.geometry import Point\n",
    "import folium\n",
    "from itertools import chain\n",
    "import numpy as np\n",
    "import markdown"
   ]
  },
  {
   "cell_type": "code",
   "execution_count": 2,
   "id": "a9df72d3-dfee-441d-9c7a-f2c70406d662",
   "metadata": {},
   "outputs": [],
   "source": [
    "db = sqlite3.connect(\"tests/sample_data/kapalo.sqlite\")"
   ]
  },
  {
   "cell_type": "code",
   "execution_count": 3,
   "id": "f5b51ffb-cdb5-4c01-9579-4ef38761c719",
   "metadata": {},
   "outputs": [],
   "source": [
    "observations = pd.read_sql_query(\"SELECT * from Observation;\", db)\n",
    "planar_structures = pd.read_sql_query(\"SELECT * from BFDS_Planar_structure;\", db)\n",
    "tectonic_measurements = pd.read_sql_query(\"SELECT * from Tectonic_measurement;\", db)\n",
    "rock_observations_points = pd.read_sql_query(\"SELECT * from Rock_observation_point;\", db)\n",
    "linear_structures = pd.read_sql_query(\"SELECT * from BFDS_Linear_structure;\", db)\n",
    "images = pd.read_sql_query(\"SELECT * from Outcrop_picture;\", db)"
   ]
  },
  {
   "cell_type": "code",
   "execution_count": 4,
   "id": "0326d84f-7df5-4186-8e6b-322b8c6700ef",
   "metadata": {},
   "outputs": [
    {
     "data": {
      "text/plain": [
       "{'GDB_ID', 'LAT', 'LON', 'OBJECTID'}"
      ]
     },
     "execution_count": 4,
     "metadata": {},
     "output_type": "execute_result"
    }
   ],
   "source": [
    "{*observations.columns} & {*planar_structures.columns} & {*tectonic_measurements.columns}"
   ]
  },
  {
   "cell_type": "code",
   "execution_count": 5,
   "id": "aba44d72-cb91-44fa-a7ae-4e30658fe6ae",
   "metadata": {},
   "outputs": [],
   "source": [
    "planar_merged = planar_structures.merge(observations, on=\"GDB_ID\", how=\"left\", suffixes=[None, \"_y\"], validate=\"one_to_one\")\n",
    "planar_merged = planar_merged.merge(rock_observations_points, on=\"GDB_ID\", how=\"left\", suffixes=[None, \"_y\"], validate=\"one_to_one\")"
   ]
  },
  {
   "cell_type": "code",
   "execution_count": 6,
   "id": "fbeb4043-2516-4538-8969-4a1d29ddf10a",
   "metadata": {},
   "outputs": [],
   "source": [
    "planar_merged[\"geometry\"] = [Point(x, y) for x, y in zip(planar_merged[\"LAT\"], planar_merged[\"LON\"])]"
   ]
  },
  {
   "cell_type": "code",
   "execution_count": 7,
   "id": "53625e7f-d32a-4cb6-8cd7-3b84b74a31d5",
   "metadata": {},
   "outputs": [],
   "source": [
    "gdf_wgs84 = gpd.GeoDataFrame(planar_merged, crs=\"EPSG:4326\")\n",
    "gdf_tm35 = gdf_wgs84.to_crs(\"EPSG:3067\")"
   ]
  },
  {
   "cell_type": "code",
   "execution_count": 8,
   "id": "94b2cd9c-35ab-4f01-9dcd-1d90c644dda5",
   "metadata": {},
   "outputs": [],
   "source": [
    "def dip_colors(dip:float):\n",
    "    color=\"blue\"\n",
    "    if dip > 60:\n",
    "        color = \"red\"\n",
    "    elif dip > 30:\n",
    "        color = \"green\"\n",
    "    return color"
   ]
  },
  {
   "cell_type": "code",
   "execution_count": 9,
   "id": "b56a7c59-02c4-4488-aeaa-25ce0f2e8710",
   "metadata": {},
   "outputs": [],
   "source": [
    "m = folium.Map(location=[gdf_wgs84[\"LAT\"].median(), gdf_wgs84[\"LON\"].median()], tiles=\"OpenStreetMap\")\n",
    "for idx, row in gdf_wgs84.iterrows():\n",
    "    point = row[\"geometry\"]\n",
    "    dip = row[\"DIP\"]\n",
    "    dip_dir = row[\"DIRECTION_OF_DIP\"]\n",
    "    rotation = dip_dir - 90 if dip_dir > 90 else 270 + dip_dir\n",
    "    rock_name = row[\"ROCK_NAME_TEXT\"]\n",
    "    measurement = f\"{dip_dir:>3}/{dip:>2}\".replace(\" \", \"0\")\n",
    "    folium.Marker(\n",
    "        location=[point.x, point.y], \n",
    "        popup=folium.Popup(measurement, parse_html=True),\n",
    "        icon=folium.Icon(angle=rotation, icon=\"glyphicon-chevron-right\", icon_color=dip_colors(dip)),\n",
    "        tooltip=str(dip)\n",
    "    ).add_to(m)\n",
    "m.save(\"index.html\")"
   ]
  },
  {
   "cell_type": "code",
   "execution_count": 10,
   "id": "75e2d084-f43d-4013-9de6-f8a466990aad",
   "metadata": {},
   "outputs": [],
   "source": [
    "tectonic_observations = observations.merge(tectonic_measurements, on=\"OBSID\", how=\"right\", suffixes=[None, \"_y\"])"
   ]
  },
  {
   "cell_type": "code",
   "execution_count": 11,
   "id": "c22aa8e0-a95d-4a0d-a5d5-30d1d53a2a65",
   "metadata": {},
   "outputs": [
    {
     "name": "stdout",
     "output_type": "stream",
     "text": [
      "GDB_ID\n",
      "294 89 178\n",
      "BO_GID\n",
      "294 89 178\n",
      "OBSID\n",
      "294 89 178\n"
     ]
    }
   ],
   "source": [
    "for col in (\"GDB_ID\", \"BO_GID\", \"OBSID\"):\n",
    "    print(col)\n",
    "    vals = planar_structures[\"TM_GID\"].values\n",
    "    other = tectonic_observations[col].values\n",
    "    print(len(vals), len(other), len(set(chain(vals, other))))"
   ]
  },
  {
   "cell_type": "code",
   "execution_count": 12,
   "id": "90adcc39-2ab9-40ec-8564-f472be5d71c8",
   "metadata": {},
   "outputs": [],
   "source": [
    "planar_tectonic_obs = tectonic_observations.merge(planar_structures, left_on=\"GDB_ID_y\", right_on=\"TM_GID\", how=\"left\")"
   ]
  },
  {
   "cell_type": "code",
   "execution_count": 13,
   "id": "0ca8c599-2671-41ef-ac5a-77016de7abd7",
   "metadata": {},
   "outputs": [],
   "source": [
    "linear_tectonic_obs = tectonic_observations.merge(linear_structures, left_on=\"GDB_ID_y\", right_on=\"TM_GID\", how=\"left\")"
   ]
  },
  {
   "cell_type": "code",
   "execution_count": 14,
   "id": "13397e51-08c7-4039-8094-002740065494",
   "metadata": {},
   "outputs": [],
   "source": [
    "linears = linear_tectonic_obs.loc[~np.isnan(linear_tectonic_obs[\"LAT_y\"]).iloc[:,1]]"
   ]
  },
  {
   "cell_type": "code",
   "execution_count": 15,
   "id": "c5c99301-cfd3-4a9a-bfff-80c70b8bf1f8",
   "metadata": {},
   "outputs": [
    {
     "name": "stdout",
     "output_type": "stream",
     "text": [
      "GDB_ID_y TM_GID\n",
      "GDB_ID_y TM_GID\n",
      "GDB_ID_y TM_GID\n",
      "GDB_ID_y TM_GID\n",
      "GDB_ID_y TM_GID\n",
      "GDB_ID_y TM_GID\n",
      "GDB_ID_y TM_GID\n",
      "GDB_ID_y TM_GID\n",
      "GDB_ID_y TM_GID\n"
     ]
    }
   ],
   "source": [
    "for col in tectonic_observations.columns:\n",
    "    vals = tectonic_observations[col].values\n",
    "    \n",
    "    for second_col in linear_structures.columns:\n",
    "        other_vals = linear_structures[second_col]\n",
    "        \n",
    "        for val in vals:\n",
    "            \n",
    "            for other_val in other_vals:\n",
    "                \n",
    "                if val == other_val:\n",
    "                    if isinstance(val, str) and len(val) > 0:\n",
    "                        print(col, second_col)\n",
    "                        break"
   ]
  },
  {
   "cell_type": "code",
   "execution_count": 16,
   "id": "185363f6-76b2-4b61-b6cd-3d07983b9f6d",
   "metadata": {},
   "outputs": [],
   "source": [
    "markdown_text = \"\"\"\n",
    "# Header\n",
    "\n",
    "Body\n",
    "\n",
    "-  Bullet\n",
    "\n",
    "[![Image caption](piirros.png)](./piirros.png)\n",
    "\"\"\""
   ]
  },
  {
   "cell_type": "code",
   "execution_count": 17,
   "id": "6ba4ed3f-9775-4d41-bf7a-7fa646fb153d",
   "metadata": {},
   "outputs": [
    {
     "data": {
      "text/plain": [
       "'<h1>Header</h1>\\n<p>Body</p>\\n<ul>\\n<li>Bullet</li>\\n</ul>\\n<p><a href=\"./piirros.png\"><img alt=\"Image caption\" src=\"piirros.png\" /></a></p>'"
      ]
     },
     "execution_count": 17,
     "metadata": {},
     "output_type": "execute_result"
    }
   ],
   "source": [
    "markdown.markdown(markdown_text)"
   ]
  },
  {
   "cell_type": "code",
   "execution_count": 18,
   "id": "4230ee41-1b05-4ec9-bfcb-554d3f50510d",
   "metadata": {},
   "outputs": [],
   "source": [
    "img_html = markdown.markdown(markdown_text).replace(\"src=\", \"width=500 src=\")"
   ]
  },
  {
   "cell_type": "code",
   "execution_count": 19,
   "id": "b7ca7a9a-689b-4dfd-b3f8-932d1b8ac6c1",
   "metadata": {},
   "outputs": [],
   "source": [
    "m = folium.Map(location=[gdf_wgs84[\"LAT\"].median(), gdf_wgs84[\"LON\"].median()], tiles=\"OpenStreetMap\")\n",
    "folium.Marker(\n",
    "    location=[gdf_wgs84[\"LAT\"].median(), gdf_wgs84[\"LON\"].median()],\n",
    "    popup=folium.Popup(html=img_html, parse_html=False)\n",
    ").add_to(m)\n",
    "\n",
    "m.save(\"index.html\")"
   ]
  },
  {
   "cell_type": "code",
   "execution_count": 20,
   "id": "b39a5996-e687-4531-80f9-9764795b14c4",
   "metadata": {},
   "outputs": [
    {
     "data": {
      "text/html": [
       "<div>\n",
       "<style scoped>\n",
       "    .dataframe tbody tr th:only-of-type {\n",
       "        vertical-align: middle;\n",
       "    }\n",
       "\n",
       "    .dataframe tbody tr th {\n",
       "        vertical-align: top;\n",
       "    }\n",
       "\n",
       "    .dataframe thead th {\n",
       "        text-align: right;\n",
       "    }\n",
       "</style>\n",
       "<table border=\"1\" class=\"dataframe\">\n",
       "  <thead>\n",
       "    <tr style=\"text-align: right;\">\n",
       "      <th></th>\n",
       "      <th>LAT_y</th>\n",
       "      <th>LAT_y</th>\n",
       "    </tr>\n",
       "  </thead>\n",
       "  <tbody>\n",
       "    <tr>\n",
       "      <th>0</th>\n",
       "      <td>60.370147</td>\n",
       "      <td>60.370147</td>\n",
       "    </tr>\n",
       "    <tr>\n",
       "      <th>1</th>\n",
       "      <td>60.357638</td>\n",
       "      <td>60.357638</td>\n",
       "    </tr>\n",
       "    <tr>\n",
       "      <th>2</th>\n",
       "      <td>60.357655</td>\n",
       "      <td>60.357655</td>\n",
       "    </tr>\n",
       "    <tr>\n",
       "      <th>3</th>\n",
       "      <td>60.358231</td>\n",
       "      <td>60.358231</td>\n",
       "    </tr>\n",
       "    <tr>\n",
       "      <th>4</th>\n",
       "      <td>60.363936</td>\n",
       "      <td>60.363936</td>\n",
       "    </tr>\n",
       "    <tr>\n",
       "      <th>...</th>\n",
       "      <td>...</td>\n",
       "      <td>...</td>\n",
       "    </tr>\n",
       "    <tr>\n",
       "      <th>289</th>\n",
       "      <td>60.416714</td>\n",
       "      <td>60.416714</td>\n",
       "    </tr>\n",
       "    <tr>\n",
       "      <th>290</th>\n",
       "      <td>60.416714</td>\n",
       "      <td>60.416714</td>\n",
       "    </tr>\n",
       "    <tr>\n",
       "      <th>291</th>\n",
       "      <td>60.416714</td>\n",
       "      <td>60.416714</td>\n",
       "    </tr>\n",
       "    <tr>\n",
       "      <th>292</th>\n",
       "      <td>60.416714</td>\n",
       "      <td>60.416714</td>\n",
       "    </tr>\n",
       "    <tr>\n",
       "      <th>293</th>\n",
       "      <td>60.425429</td>\n",
       "      <td>60.425429</td>\n",
       "    </tr>\n",
       "  </tbody>\n",
       "</table>\n",
       "<p>294 rows × 2 columns</p>\n",
       "</div>"
      ],
      "text/plain": [
       "         LAT_y      LAT_y\n",
       "0    60.370147  60.370147\n",
       "1    60.357638  60.357638\n",
       "2    60.357655  60.357655\n",
       "3    60.358231  60.358231\n",
       "4    60.363936  60.363936\n",
       "..         ...        ...\n",
       "289  60.416714  60.416714\n",
       "290  60.416714  60.416714\n",
       "291  60.416714  60.416714\n",
       "292  60.416714  60.416714\n",
       "293  60.425429  60.425429\n",
       "\n",
       "[294 rows x 2 columns]"
      ]
     },
     "execution_count": 20,
     "metadata": {},
     "output_type": "execute_result"
    }
   ],
   "source": [
    "planar_tectonic_obs[\"LAT_y\"]"
   ]
  },
  {
   "cell_type": "code",
   "execution_count": 24,
   "id": "49959365-c378-4ad9-8254-20f48e290a59",
   "metadata": {},
   "outputs": [],
   "source": [
    "tectonic_observations = observations.merge(tectonic_measurements, on=\"OBSID\", how=\"right\", suffixes=[\"_x\", \"_y\"])"
   ]
  },
  {
   "cell_type": "code",
   "execution_count": null,
   "id": "553dc096-0c0f-41c6-aa18-f718548bbea0",
   "metadata": {},
   "outputs": [],
   "source": []
  }
 ],
 "metadata": {
  "kernelspec": {
   "display_name": "Python 3",
   "language": "python",
   "name": "python3"
  },
  "language_info": {
   "codemirror_mode": {
    "name": "ipython",
    "version": 3
   },
   "file_extension": ".py",
   "mimetype": "text/x-python",
   "name": "python",
   "nbconvert_exporter": "python",
   "pygments_lexer": "ipython3",
   "version": "3.8.6"
  }
 },
 "nbformat": 4,
 "nbformat_minor": 5
}
