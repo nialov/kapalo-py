{
 "cells": [
  {
   "cell_type": "code",
   "execution_count": 1,
   "id": "1403d5c9-0607-4a21-a340-b5286a097fa5",
   "metadata": {},
   "outputs": [],
   "source": [
    "import pandas as pd\n",
    "import geopandas as gpd\n",
    "import sqlite3\n",
    "from shapely.geometry import Point\n",
    "import folium\n",
    "from itertools import chain\n",
    "import numpy as np\n",
    "import markdown\n",
    "from pathlib import Path"
   ]
  },
  {
   "cell_type": "code",
   "execution_count": 2,
   "id": "703fb1d2-95fa-4836-9307-966177f8138b",
   "metadata": {},
   "outputs": [],
   "source": [
    "from kapalo_py.schema_inference import Table, connections, KapaloTables\n",
    "import kapalo_py.kapalo_map as kapalo_map"
   ]
  },
  {
   "cell_type": "code",
   "execution_count": 3,
   "id": "e0d40e23-bc7e-48d9-a4c7-410a05a4f373",
   "metadata": {},
   "outputs": [],
   "source": [
    "kapalo_tables = kapalo_map.read_kapalo_tables(path=Path(\"tests/sample_data/kapalo.sqlite\"))"
   ]
  },
  {
   "cell_type": "code",
   "execution_count": 4,
   "id": "41da5ce8-444c-446d-9b89-2433c49ebe8a",
   "metadata": {},
   "outputs": [],
   "source": [
    "project_map = kapalo_map.create_project_map(\n",
    "    kapalo_tables, \n",
    "    project=\"Ahvenanmaa KARIKKO\"\n",
    ")"
   ]
  },
  {
   "cell_type": "code",
   "execution_count": 5,
   "id": "dcac8a92-68af-48b5-8f22-8d80120db23c",
   "metadata": {},
   "outputs": [],
   "source": [
    "project_map.save(\"index.html\")"
   ]
  },
  {
   "cell_type": "code",
   "execution_count": null,
   "id": "59d8addd-ec66-48ee-80d2-632d94c11a29",
   "metadata": {},
   "outputs": [],
   "source": []
  }
 ],
 "metadata": {
  "kernelspec": {
   "display_name": "Python 3",
   "language": "python",
   "name": "python3"
  },
  "language_info": {
   "codemirror_mode": {
    "name": "ipython",
    "version": 3
   },
   "file_extension": ".py",
   "mimetype": "text/x-python",
   "name": "python",
   "nbconvert_exporter": "python",
   "pygments_lexer": "ipython3",
   "version": "3.8.6"
  }
 },
 "nbformat": 4,
 "nbformat_minor": 5
}
