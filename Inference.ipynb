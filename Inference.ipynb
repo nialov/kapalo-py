{
 "cells": [
  {
   "cell_type": "code",
   "execution_count": 1,
   "id": "3a779072-3e87-4c3f-a9c1-487b5dfade7c",
   "metadata": {},
   "outputs": [],
   "source": [
    "import sqlite3\n",
    "from pathlib import Path\n",
    "import pandas as pd\n",
    "from pprint import pprint"
   ]
  },
  {
   "cell_type": "code",
   "execution_count": 2,
   "id": "8004e38c-a9e3-48a0-8ea1-c968a44e47d3",
   "metadata": {},
   "outputs": [],
   "source": [
    "kapalo_sql_path = Path(\"tests/sample_data/kapalo_sql/kapalo.sqlite\")"
   ]
  },
  {
   "cell_type": "code",
   "execution_count": 3,
   "id": "04ac8e3f-f96e-4020-8d71-79e0ca0906f6",
   "metadata": {},
   "outputs": [],
   "source": [
    "db = sqlite3.connect(kapalo_sql_path)"
   ]
  },
  {
   "cell_type": "code",
   "execution_count": 4,
   "id": "d944f9cd-08cf-4f59-bba7-ab2b8ac9e932",
   "metadata": {},
   "outputs": [
    {
     "name": "stdout",
     "output_type": "stream",
     "text": [
      "Index(['OBJECTID', 'GDB_ID', 'GDB_MOD', 'TM_GID', 'STYPE', 'DIRECTION_OF_DIP',\n",
      "       'DIP', 'STRIKE', 'BEDDING_TYPE', 'YOUNGING_DIRECTION', 'BED_THICKNESS',\n",
      "       'TO_MAP', 'FOL_TYPE', 'RELATIVE_AGE', 'AREAL_RELATIVE_AGE',\n",
      "       'FOL_APPEARANCE', 'FOL_FREQUENCY', 'FOL_GRADE', 'F_TYPE', 'F_APP1',\n",
      "       'H_DISPLACEMENT', 'H_SENCE', 'V_DISPLACEMENT', 'V_SENCE',\n",
      "       'F_ZONE_WIDTH', 'F_ABUNDANCE', 'F_RELATIONSHIP', 'F_TEXTURE',\n",
      "       'J_QUALITY', 'J_F_TYPE', 'J_F_MATERIAL', 'WATER_APPEARANCE',\n",
      "       'VEIN_TYPE', 'VEIN_MATERIAL', 'VEIN_WIDTH', 'VEIN_LENGTH', 'C_CLASS',\n",
      "       'C_TYPE', 'C_NAME1', 'C_NAME2', 'C_APPEARANCE', 'J_APERTURE',\n",
      "       'J_SPECIAL_TYPE', 'ALTERATION_WIDTH', 'J_LENGTH', 'J_SHAPE',\n",
      "       'J_ROUGHNESS', 'J_ROUGHNESS_NUMBER', 'J_ALTERATION',\n",
      "       'J_ALTERATION_NUMBER', 'J_CONTINUITY', 'SZ_CODE', 'REMARKS', 'LAT',\n",
      "       'LON', 'STYPE_TEXT', 'BEDDING_TYPE_TEXT', 'FOL_TYPE_TEXT',\n",
      "       'H_SENCE_TEXT', 'FOL_GRADE_TEXT', 'RELATIVE_AGE_TEXT'],\n",
      "      dtype='object')\n"
     ]
    }
   ],
   "source": [
    "pd.read_sql_query(\"SELECT * FROM BFDS_Planar_Structure\", con=db).columns"
   ]
  },
  {
   "cell_type": "code",
   "execution_count": 5,
   "id": "56c69c2e-67b3-4b64-ab0f-87c04af8a245",
   "metadata": {},
   "outputs": [
    {
     "data": {
      "text/plain": [
       "Index(['OBJECTID', 'GDB_ID', 'GDB_MOD', 'TM_GID', 'STYPE', 'RELATIVE_AGE',\n",
       "       'AREAL_RELATIVE_AGE', 'DIRECTION', 'PLUNGE', 'TO_MAP', 'F_AXIS_SIZE',\n",
       "       'F_TYPE', 'SENCE_OF_ASYMMETRY', 'F_WAVELENGTH', 'F_CLASSIFICATION',\n",
       "       'L_TYPE', 'L_ATTRIBUTE', 'L_INTENSITY', 'SZ_CODE', 'REMARKS', 'LAT',\n",
       "       'LON', 'STYPE_TEXT', 'F_AXIS_SIZE_TEXT', 'SENCE_OF_ASYMMETRY_TEXT',\n",
       "       'L_TYPE_TEXT', 'L_ATTRIBUTE_TEXT', 'L_INTENSITY_TEXT'],\n",
       "      dtype='object')"
      ]
     },
     "execution_count": 5,
     "metadata": {},
     "output_type": "execute_result"
    }
   ],
   "source": [
    "pd.read_sql_query(\"SELECT * FROM BFDS_Linear_Structure\", con=db).columns"
   ]
  },
  {
   "cell_type": "code",
   "execution_count": 8,
   "id": "4220a68e-d654-438d-9cf1-9fa78ab490ea",
   "metadata": {},
   "outputs": [
    {
     "data": {
      "text/plain": [
       "0     Lineation\n",
       "1     Lineation\n",
       "2     Lineation\n",
       "3              \n",
       "4     Lineation\n",
       "5     Lineation\n",
       "6     Lineation\n",
       "7     Lineation\n",
       "8     Lineation\n",
       "9     Lineation\n",
       "10    Lineation\n",
       "11    Lineation\n",
       "12    Lineation\n",
       "13    Lineation\n",
       "14    Lineation\n",
       "15    Lineation\n",
       "16    Fold axel\n",
       "17    Lineation\n",
       "18    Lineation\n",
       "19    Lineation\n",
       "20    Lineation\n",
       "Name: STYPE_TEXT, dtype: object"
      ]
     },
     "execution_count": 8,
     "metadata": {},
     "output_type": "execute_result"
    }
   ],
   "source": [
    "pd.read_sql_query(\"SELECT * FROM BFDS_Linear_Structure\", con=db)[\"STYPE_TEXT\"]"
   ]
  },
  {
   "cell_type": "code",
   "execution_count": null,
   "id": "391d4806-c62b-4122-b46e-6e64e2bc03b2",
   "metadata": {},
   "outputs": [],
   "source": []
  }
 ],
 "metadata": {
  "kernelspec": {
   "display_name": "Python 3",
   "language": "python",
   "name": "python3"
  },
  "language_info": {
   "codemirror_mode": {
    "name": "ipython",
    "version": 3
   },
   "file_extension": ".py",
   "mimetype": "text/x-python",
   "name": "python",
   "nbconvert_exporter": "python",
   "pygments_lexer": "ipython3",
   "version": "3.8.6"
  }
 },
 "nbformat": 4,
 "nbformat_minor": 5
}
